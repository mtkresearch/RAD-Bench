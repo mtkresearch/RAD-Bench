{
 "cells": [
  {
   "cell_type": "code",
   "execution_count": 1,
   "metadata": {},
   "outputs": [],
   "source": [
    "import json\n",
    "\n",
    "def read_jsonl(file_path):\n",
    "    with open(file_path, 'r') as f:\n",
    "        return [json.loads(line) for line in f]\n",
    "\n",
    "def write_jsonl(file_path, data):\n",
    "    with open(file_path, 'w') as f:\n",
    "        for entry in data:\n",
    "            json.dump(entry, f)\n",
    "            f.write('\\n')"
   ]
  },
  {
   "cell_type": "code",
   "execution_count": 14,
   "metadata": {},
   "outputs": [],
   "source": [
    "def output_error_question_ids(filename):\n",
    "    data = read_jsonl(filename)\n",
    "    err_idx = []\n",
    "    def get_question_idx(question_id):\n",
    "        for i, entry in enumerate(data):\n",
    "            if entry['question_id'] == question_id:\n",
    "                return i\n",
    "\n",
    "    has_error_output_question_ids = []\n",
    "    for entry in data:\n",
    "        turns = entry['choices'][0][\"turns\"]\n",
    "        for turn in turns:\n",
    "            if '$ERROR' in turn:\n",
    "                has_error_output_question_ids.append(entry['question_id'])\n",
    "                break\n",
    "    for error_q in has_error_output_question_ids:\n",
    "        idx = get_question_idx(error_q)\n",
    "        err_idx.append(idx)\n",
    "        print(f\"{error_q}, idx: {idx}\")\n",
    "    return err_idx"
   ]
  },
  {
   "cell_type": "code",
   "execution_count": 15,
   "metadata": {},
   "outputs": [
    {
     "name": "stdout",
     "output_type": "stream",
     "text": [
      "CS_education_09, idx: 0\n",
      "CS_education_12, idx: 1\n",
      "CS_education_18, idx: 2\n",
      "CS_news_01, idx: 3\n",
      "CS_news_10, idx: 4\n",
      "CS_news_15, idx: 5\n",
      "TR_travel_00, idx: 6\n",
      "TR_travel_01, idx: 7\n",
      "TR_travel_05, idx: 8\n",
      "TR_travel_06, idx: 9\n",
      "TR_travel_07, idx: 10\n",
      "TR_travel_08, idx: 11\n",
      "TR_travel_10, idx: 12\n",
      "TR_travel_11, idx: 13\n",
      "TR_travel_13, idx: 14\n",
      "[0, 1, 2, 3, 4, 5, 6, 7, 8, 9, 10, 11, 12, 13, 14]\n"
     ]
    }
   ],
   "source": [
    "error_ids = output_error_question_ids(\"llama3-70b-instruct_retries.jsonl\")\n",
    "print(error_ids)"
   ]
  },
  {
   "cell_type": "code",
   "execution_count": 8,
   "metadata": {},
   "outputs": [],
   "source": [
    "output_error_question_ids(\"mixtral-8x22b-instruct.jsonl\")"
   ]
  },
  {
   "cell_type": "code",
   "execution_count": 10,
   "metadata": {},
   "outputs": [],
   "source": [
    "output_error_question_ids(\"breexe-8x7b-instruct-v01.jsonl\")"
   ]
  },
  {
   "cell_type": "code",
   "execution_count": 11,
   "metadata": {},
   "outputs": [],
   "source": [
    "output_error_question_ids(\"gpt-4o.jsonl\")"
   ]
  },
  {
   "cell_type": "code",
   "execution_count": 12,
   "metadata": {},
   "outputs": [],
   "source": [
    "output_error_question_ids(\"breeze-7B-32k-instruct-v10.jsonl\")"
   ]
  },
  {
   "cell_type": "code",
   "execution_count": 16,
   "metadata": {},
   "outputs": [
    {
     "name": "stdout",
     "output_type": "stream",
     "text": [
      "CS_academic_03, idx: 3\n",
      "CS_academic_05, idx: 5\n",
      "CS_academic_08, idx: 8\n",
      "CS_education_00, idx: 10\n",
      "CS_education_01, idx: 11\n",
      "CS_education_02, idx: 12\n",
      "CS_education_03, idx: 13\n",
      "CS_education_04, idx: 14\n",
      "CS_education_05, idx: 15\n",
      "CS_education_06, idx: 16\n",
      "CS_education_07, idx: 17\n",
      "CS_education_08, idx: 18\n",
      "CS_education_09, idx: 19\n",
      "CS_education_10, idx: 20\n",
      "CS_education_11, idx: 21\n",
      "CS_education_12, idx: 22\n",
      "CS_education_13, idx: 23\n",
      "CS_education_14, idx: 24\n",
      "CS_education_15, idx: 25\n",
      "CS_education_16, idx: 26\n",
      "CS_education_17, idx: 27\n",
      "CS_education_18, idx: 28\n",
      "CS_education_19, idx: 29\n",
      "CS_news_00, idx: 30\n",
      "CS_news_01, idx: 31\n",
      "CS_news_02, idx: 32\n",
      "CS_news_03, idx: 33\n",
      "CS_news_05, idx: 35\n",
      "CS_news_06, idx: 36\n",
      "CS_news_07, idx: 37\n",
      "CS_news_08, idx: 38\n",
      "CS_news_10, idx: 40\n",
      "CS_news_11, idx: 41\n",
      "CS_news_12, idx: 42\n",
      "CS_news_13, idx: 43\n",
      "CS_news_14, idx: 44\n",
      "CS_news_15, idx: 45\n",
      "CS_news_16, idx: 46\n",
      "CS_news_17, idx: 47\n",
      "CS_news_18, idx: 48\n",
      "TR_travel_00, idx: 74\n",
      "TR_travel_01, idx: 75\n",
      "TR_travel_03, idx: 77\n",
      "TR_travel_05, idx: 79\n",
      "TR_travel_06, idx: 80\n",
      "TR_travel_07, idx: 81\n",
      "TR_travel_08, idx: 82\n",
      "TR_travel_09, idx: 83\n",
      "TR_travel_10, idx: 84\n",
      "TR_travel_11, idx: 85\n",
      "TR_travel_13, idx: 87\n",
      "[3, 5, 8, 10, 11, 12, 13, 14, 15, 16, 17, 18, 19, 20, 21, 22, 23, 24, 25, 26, 27, 28, 29, 30, 31, 32, 33, 35, 36, 37, 38, 40, 41, 42, 43, 44, 45, 46, 47, 48, 74, 75, 77, 79, 80, 81, 82, 83, 84, 85, 87]\n"
     ]
    }
   ],
   "source": [
    "error_ids = output_error_question_ids(\"deepseek-chat.jsonl\")\n",
    "print(error_ids)"
   ]
  },
  {
   "cell_type": "code",
   "execution_count": null,
   "metadata": {},
   "outputs": [],
   "source": []
  }
 ],
 "metadata": {
  "kernelspec": {
   "display_name": "mt-cag",
   "language": "python",
   "name": "python3"
  },
  "language_info": {
   "codemirror_mode": {
    "name": "ipython",
    "version": 3
   },
   "file_extension": ".py",
   "mimetype": "text/x-python",
   "name": "python",
   "nbconvert_exporter": "python",
   "pygments_lexer": "ipython3",
   "version": "3.9.5"
  }
 },
 "nbformat": 4,
 "nbformat_minor": 2
}
